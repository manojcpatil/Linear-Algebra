{
 "cells": [
  {
   "cell_type": "markdown",
   "metadata": {},
   "source": [
    "# Group No. 16\n",
    "## Author : Ranvirsing Sisodiya\n"
   ]
  },
  {
   "cell_type": "markdown",
   "metadata": {},
   "source": [
    "Determine whether the following sets of vectors are bases for R3\n",
    "a) {(1 0 1), (1 1 0), (0 1 1), (2 1 1)}\n",
    "b) {(1 0 1), (1 1 0), (1 2 1)}\n",
    "c) {(1 0 1), (0 1 1), (1 2 1)}"
   ]
  },
  {
   "cell_type": "code",
   "execution_count": 16,
   "metadata": {},
   "outputs": [],
   "source": [
    "import numpy as np"
   ]
  },
  {
   "cell_type": "markdown",
   "metadata": {},
   "source": [
    "Number of vectors in basis of vector space are always equal to dimension of vector space. So firstly check number of elements in a given set. If number of vectors in set are equal to dimension of vector space den go to next step.\n",
    "\n",
    "Now check whether given set of vectors are linearly independent or linearly dependent.(one of the best way is to construct matrix of given vectors nd convert it into row ecleon form and if rank of obtained matrix is equal to number of vectors in set then given set of vectors are linearly independent otherwise not). A set to form a basis it must b linearly independent set of vectors.\n",
    "\n",
    "If these above two conditions are satisfied then given set of vectors will definitely form a basis of vector space."
   ]
  },
  {
   "cell_type": "code",
   "execution_count": 2,
   "metadata": {},
   "outputs": [
    {
     "data": {
      "text/plain": [
       "({(0, 1, 1), (1, 0, 1), (1, 1, 0), (2, 1, 1)},\n",
       " {(1, 0, 1), (1, 1, 0), (1, 2, 1)},\n",
       " {(0, 1, 1), (1, 0, 1), (1, 2, 1)})"
      ]
     },
     "execution_count": 2,
     "metadata": {},
     "output_type": "execute_result"
    }
   ],
   "source": [
    "dim_VS=3 #given\n",
    "A={(1,0,1), (1,1,0), (0,1,1), (2,1,1)}\n",
    "B={(1,0,1), (1,1,0), (1,2,1)}\n",
    "C={(1,0,1), (0,1,1), (1,2,1)}\n",
    "m=(A,B,C)\n",
    "m"
   ]
  },
  {
   "cell_type": "code",
   "execution_count": 12,
   "metadata": {},
   "outputs": [
    {
     "name": "stdout",
     "output_type": "stream",
     "text": [
      "This set of vector cannot form basis:\t {(2, 1, 1), (1, 0, 1), (1, 1, 0), (0, 1, 1)}\n",
      "Check linear independence for:\t {(1, 2, 1), (1, 0, 1), (1, 1, 0)}\n",
      "Check linear independence for:\t {(1, 2, 1), (1, 0, 1), (0, 1, 1)}\n"
     ]
    }
   ],
   "source": [
    "n=[]\n",
    "for i in m:\n",
    "    if len(i)==dim_VS:\n",
    "        n.append(i)\n",
    "        print('Check linear independence for:\\t',i)\n",
    "    if len(i)!=dim_VS:\n",
    "        print('This set of vector cannot form basis:\\t',i)\n"
   ]
  },
  {
   "cell_type": "code",
   "execution_count": 39,
   "metadata": {},
   "outputs": [
    {
     "data": {
      "text/latex": [
       "$\\displaystyle \\left[\\begin{matrix}1 & 2 & 1\\\\1 & 0 & 1\\\\1 & 1 & 0\\end{matrix}\\right]$"
      ],
      "text/plain": [
       "Matrix([\n",
       "[1, 2, 1],\n",
       "[1, 0, 1],\n",
       "[1, 1, 0]])"
      ]
     },
     "execution_count": 39,
     "metadata": {},
     "output_type": "execute_result"
    }
   ],
   "source": [
    "Matrix(list(n[0]))"
   ]
  },
  {
   "cell_type": "code",
   "execution_count": 4,
   "metadata": {},
   "outputs": [],
   "source": [
    "import sympy\n",
    "from sympy import *"
   ]
  },
  {
   "cell_type": "code",
   "execution_count": 40,
   "metadata": {},
   "outputs": [
    {
     "data": {
      "text/latex": [
       "$\\displaystyle \\left[\\begin{matrix}2 & 1 & 1\\\\1 & 0 & 1\\\\1 & 1 & 0\\\\0 & 1 & 1\\end{matrix}\\right]$"
      ],
      "text/plain": [
       "Matrix([\n",
       "[2, 1, 1],\n",
       "[1, 0, 1],\n",
       "[1, 1, 0],\n",
       "[0, 1, 1]])"
      ]
     },
     "execution_count": 40,
     "metadata": {},
     "output_type": "execute_result"
    }
   ],
   "source": [
    "A1=Matrix(list(A))\n",
    "A1"
   ]
  },
  {
   "cell_type": "code",
   "execution_count": 41,
   "metadata": {},
   "outputs": [
    {
     "data": {
      "text/latex": [
       "$\\displaystyle \\left[\\begin{matrix}1 & 0 & 0\\\\0 & 1 & 0\\\\0 & 0 & 1\\\\0 & 0 & 0\\end{matrix}\\right]$"
      ],
      "text/plain": [
       "Matrix([\n",
       "[1, 0, 0],\n",
       "[0, 1, 0],\n",
       "[0, 0, 1],\n",
       "[0, 0, 0]])"
      ]
     },
     "execution_count": 41,
     "metadata": {},
     "output_type": "execute_result"
    }
   ],
   "source": [
    "A1_rref=A1.rref()\n",
    "A1_rref[0]"
   ]
  },
  {
   "cell_type": "code",
   "execution_count": 56,
   "metadata": {},
   "outputs": [
    {
     "name": "stdout",
     "output_type": "stream",
     "text": [
      "{(1, 2, 1), (1, 0, 1), (1, 1, 0)} This set of vector form a basis for R3\n",
      "{(1, 2, 1), (1, 0, 1), (0, 1, 1)} This set of vector form a basis for R3\n"
     ]
    }
   ],
   "source": [
    "for i in n:\n",
    "    M=Matrix(list(i))\n",
    "    M_rref=M.rref()\n",
    "    M_rref=M_rref[0]\n",
    "    if M_rref.det()!=0:\n",
    "        print(i,'This set of vector form a basis for R3')"
   ]
  },
  {
   "cell_type": "markdown",
   "metadata": {},
   "source": [
    "### Let A={(1,4,2,9), (5,2,3,-5), (3,-5,-1,-25), (6,5,5,6), (-3,7,8,2)}. Check whether A is linearly independent. If A is linearly dependent then obtain the vector u such that the dependent vector is linear combination of the remaining linearly independent vectors."
   ]
  },
  {
   "cell_type": "code",
   "execution_count": 57,
   "metadata": {},
   "outputs": [],
   "source": [
    "A={(1,4,2,9), (5,2,3,-5), (3,-5,-1,-25), (6,5,5,6), (-3,7,8,2)}"
   ]
  },
  {
   "cell_type": "code",
   "execution_count": 69,
   "metadata": {},
   "outputs": [
    {
     "data": {
      "text/latex": [
       "$\\displaystyle \\left[\\begin{matrix}1 & 0 & 0 & 0\\\\0 & 1 & 0 & 0\\\\0 & 0 & 1 & 0\\\\0 & 0 & 0 & 1\\\\0 & 0 & 0 & 0\\end{matrix}\\right]$"
      ],
      "text/plain": [
       "Matrix([\n",
       "[1, 0, 0, 0],\n",
       "[0, 1, 0, 0],\n",
       "[0, 0, 1, 0],\n",
       "[0, 0, 0, 1],\n",
       "[0, 0, 0, 0]])"
      ]
     },
     "execution_count": 69,
     "metadata": {},
     "output_type": "execute_result"
    }
   ],
   "source": [
    "A1=Matrix(list(A))\n",
    "A1_rref=A1.rref()\n",
    "A2=A1_rref[0]\n",
    "A2"
   ]
  },
  {
   "cell_type": "code",
   "execution_count": 71,
   "metadata": {},
   "outputs": [],
   "source": [
    "# from A2 we can see that A has linearly dependent vectors"
   ]
  },
  {
   "cell_type": "code",
   "execution_count": null,
   "metadata": {},
   "outputs": [],
   "source": []
  }
 ],
 "metadata": {
  "kernelspec": {
   "display_name": "Python 3",
   "language": "python",
   "name": "python3"
  },
  "language_info": {
   "codemirror_mode": {
    "name": "ipython",
    "version": 3
   },
   "file_extension": ".py",
   "mimetype": "text/x-python",
   "name": "python",
   "nbconvert_exporter": "python",
   "pygments_lexer": "ipython3",
   "version": "3.8.5"
  }
 },
 "nbformat": 4,
 "nbformat_minor": 4
}
